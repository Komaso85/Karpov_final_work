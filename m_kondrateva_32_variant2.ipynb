{
 "cells": [
  {
   "cell_type": "code",
   "execution_count": 1,
   "metadata": {},
   "outputs": [],
   "source": [
    "# создание загрузочных ссылок из яндекс-диска\n",
    "\n",
    "import requests\n",
    "from urllib.parse import urlencode\n",
    "\n",
    "base_url = 'https://cloud-api.yandex.net/v1/disk/public/resources/download?'\n",
    "public_key1 = 'https://disk.yandex.ru/d/UhyYx41rTt3clQ'  # groups.csv\n",
    "public_key2 = 'https://disk.yandex.ru/d/5Kxrz02m3IBUwQ'  # groups_add.csv\n",
    "public_key3 = 'https://disk.yandex.ru/d/Tbs44Bm6H_FwFQ'  # active_studs.csv\n",
    "public_key4 = 'https://disk.yandex.ru/d/pH1q-VqcxXjsVA'  # checks.csv\n",
    "\n",
    "# Получаем загрузочные ссылки\n",
    "final_url1 = base_url + urlencode(dict(public_key=public_key1))\n",
    "response1 = requests.get(final_url1)\n",
    "download_url1 = response1.json()['href']\n",
    "\n",
    "final_url2 = base_url + urlencode(dict(public_key=public_key2))\n",
    "response2 = requests.get(final_url2)\n",
    "download_url2 = response2.json()['href']\n",
    "\n",
    "final_url3 = base_url + urlencode(dict(public_key=public_key3))\n",
    "response3 = requests.get(final_url3)\n",
    "download_url3 = response3.json()['href']\n",
    "\n",
    "final_url4 = base_url + urlencode(dict(public_key=public_key4))\n",
    "response4 = requests.get(final_url4)\n",
    "download_url4 = response4.json()['href']\n"
   ]
  },
  {
   "cell_type": "code",
   "execution_count": 2,
   "metadata": {},
   "outputs": [],
   "source": [
    "import pandas as pd\n",
    "import numpy as np\n",
    "from datetime import timedelta\n",
    "import matplotlib.pyplot as plt\n",
    "import seaborn as sns\n",
    "\n",
    "from scipy.stats import ttest_ind\n",
    "from scipy.stats import chi2_contingency\n",
    "from scipy.stats import norm\n",
    "\n",
    "from tqdm.auto import tqdm\n",
    "\n",
    "\n",
    "%matplotlib inline\n",
    "\n",
    "sns.set(rc={'figure.figsize':(16,6)},style='whitegrid')"
   ]
  },
  {
   "cell_type": "markdown",
   "metadata": {},
   "source": [
    "# Задание 1. A/B–тестирование\n",
    "\n",
    "1.1 Условие\n",
    "\n",
    "Одной из основных задач аналитика в нашей команде является корректное проведение экспериментов. Для этого мы применяем метод A/B–тестирования. В ходе тестирования одной гипотезы целевой группе была предложена новая механика оплаты услуг на сайте, у контрольной группы оставалась базовая механика. В качестве задания Вам необходимо проанализировать итоги эксперимента и сделать вывод, стоит ли запускать новую механику оплаты на всех пользователей.\n",
    "\n",
    "1.2 Входные данные\n",
    "\n",
    "В качестве входных данных Вы имеете 4 csv-файла:\n",
    "\n",
    "    groups.csv - файл с информацией о принадлежности пользователя к контрольной или экспериментальной группе (А – контроль, B – целевая группа) \n",
    "    groups_add.csv - дополнительный файл с пользователями, который вам прислали спустя 2 дня после передачи данных\n",
    "    active_studs.csv - файл с информацией о пользователях, которые зашли на платформу в дни проведения эксперимента. \n",
    "    checks.csv - файл с информацией об оплатах пользователей в дни проведения эксперимента. "
   ]
  },
  {
   "cell_type": "code",
   "execution_count": 3,
   "metadata": {},
   "outputs": [],
   "source": [
    "# загружаем данные в таблицы\n",
    "groups = pd.read_csv(download_url1, sep = ';')\n",
    "groups_add = pd.read_csv(download_url2)\n",
    "active_studs = pd.read_csv(download_url3)\n",
    "checks = pd.read_csv(download_url4, sep = ';')"
   ]
  },
  {
   "cell_type": "markdown",
   "metadata": {},
   "source": [
    "Изучаю данные: размер, есть ли пропущенный данные, и смотрю структуру данных через head()"
   ]
  },
  {
   "cell_type": "code",
   "execution_count": 4,
   "metadata": {},
   "outputs": [
    {
     "name": "stdout",
     "output_type": "stream",
     "text": [
      "(74484, 2)\n",
      "id     0\n",
      "grp    0\n",
      "dtype: int64\n"
     ]
    },
    {
     "data": {
      "text/html": [
       "<div>\n",
       "<style scoped>\n",
       "    .dataframe tbody tr th:only-of-type {\n",
       "        vertical-align: middle;\n",
       "    }\n",
       "\n",
       "    .dataframe tbody tr th {\n",
       "        vertical-align: top;\n",
       "    }\n",
       "\n",
       "    .dataframe thead th {\n",
       "        text-align: right;\n",
       "    }\n",
       "</style>\n",
       "<table border=\"1\" class=\"dataframe\">\n",
       "  <thead>\n",
       "    <tr style=\"text-align: right;\">\n",
       "      <th></th>\n",
       "      <th>id</th>\n",
       "      <th>grp</th>\n",
       "    </tr>\n",
       "  </thead>\n",
       "  <tbody>\n",
       "    <tr>\n",
       "      <th>0</th>\n",
       "      <td>1489</td>\n",
       "      <td>B</td>\n",
       "    </tr>\n",
       "    <tr>\n",
       "      <th>1</th>\n",
       "      <td>1627</td>\n",
       "      <td>A</td>\n",
       "    </tr>\n",
       "    <tr>\n",
       "      <th>2</th>\n",
       "      <td>1768</td>\n",
       "      <td>B</td>\n",
       "    </tr>\n",
       "    <tr>\n",
       "      <th>3</th>\n",
       "      <td>1783</td>\n",
       "      <td>B</td>\n",
       "    </tr>\n",
       "    <tr>\n",
       "      <th>4</th>\n",
       "      <td>1794</td>\n",
       "      <td>A</td>\n",
       "    </tr>\n",
       "  </tbody>\n",
       "</table>\n",
       "</div>"
      ],
      "text/plain": [
       "     id grp\n",
       "0  1489   B\n",
       "1  1627   A\n",
       "2  1768   B\n",
       "3  1783   B\n",
       "4  1794   A"
      ]
     },
     "execution_count": 4,
     "metadata": {},
     "output_type": "execute_result"
    }
   ],
   "source": [
    "print(groups.shape)\n",
    "print(groups.isnull().sum())\n",
    "groups.head()\n"
   ]
  },
  {
   "cell_type": "code",
   "execution_count": 5,
   "metadata": {},
   "outputs": [
    {
     "name": "stdout",
     "output_type": "stream",
     "text": [
      "(92, 2)\n",
      "id     0\n",
      "grp    0\n",
      "dtype: int64\n"
     ]
    },
    {
     "data": {
      "text/html": [
       "<div>\n",
       "<style scoped>\n",
       "    .dataframe tbody tr th:only-of-type {\n",
       "        vertical-align: middle;\n",
       "    }\n",
       "\n",
       "    .dataframe tbody tr th {\n",
       "        vertical-align: top;\n",
       "    }\n",
       "\n",
       "    .dataframe thead th {\n",
       "        text-align: right;\n",
       "    }\n",
       "</style>\n",
       "<table border=\"1\" class=\"dataframe\">\n",
       "  <thead>\n",
       "    <tr style=\"text-align: right;\">\n",
       "      <th></th>\n",
       "      <th>id</th>\n",
       "      <th>grp</th>\n",
       "    </tr>\n",
       "  </thead>\n",
       "  <tbody>\n",
       "    <tr>\n",
       "      <th>0</th>\n",
       "      <td>5694584</td>\n",
       "      <td>B</td>\n",
       "    </tr>\n",
       "    <tr>\n",
       "      <th>1</th>\n",
       "      <td>5694830</td>\n",
       "      <td>B</td>\n",
       "    </tr>\n",
       "    <tr>\n",
       "      <th>2</th>\n",
       "      <td>5695057</td>\n",
       "      <td>B</td>\n",
       "    </tr>\n",
       "    <tr>\n",
       "      <th>3</th>\n",
       "      <td>5698872</td>\n",
       "      <td>B</td>\n",
       "    </tr>\n",
       "    <tr>\n",
       "      <th>4</th>\n",
       "      <td>5699067</td>\n",
       "      <td>B</td>\n",
       "    </tr>\n",
       "  </tbody>\n",
       "</table>\n",
       "</div>"
      ],
      "text/plain": [
       "        id grp\n",
       "0  5694584   B\n",
       "1  5694830   B\n",
       "2  5695057   B\n",
       "3  5698872   B\n",
       "4  5699067   B"
      ]
     },
     "execution_count": 5,
     "metadata": {},
     "output_type": "execute_result"
    }
   ],
   "source": [
    "print(groups_add.shape)\n",
    "print(groups_add.isnull().sum())\n",
    "groups_add.head()"
   ]
  },
  {
   "cell_type": "code",
   "execution_count": 6,
   "metadata": {},
   "outputs": [
    {
     "name": "stdout",
     "output_type": "stream",
     "text": [
      "(8341, 1)\n",
      "student_id    0\n",
      "dtype: int64\n"
     ]
    },
    {
     "data": {
      "text/html": [
       "<div>\n",
       "<style scoped>\n",
       "    .dataframe tbody tr th:only-of-type {\n",
       "        vertical-align: middle;\n",
       "    }\n",
       "\n",
       "    .dataframe tbody tr th {\n",
       "        vertical-align: top;\n",
       "    }\n",
       "\n",
       "    .dataframe thead th {\n",
       "        text-align: right;\n",
       "    }\n",
       "</style>\n",
       "<table border=\"1\" class=\"dataframe\">\n",
       "  <thead>\n",
       "    <tr style=\"text-align: right;\">\n",
       "      <th></th>\n",
       "      <th>student_id</th>\n",
       "    </tr>\n",
       "  </thead>\n",
       "  <tbody>\n",
       "    <tr>\n",
       "      <th>0</th>\n",
       "      <td>581585</td>\n",
       "    </tr>\n",
       "    <tr>\n",
       "      <th>1</th>\n",
       "      <td>5723133</td>\n",
       "    </tr>\n",
       "    <tr>\n",
       "      <th>2</th>\n",
       "      <td>3276743</td>\n",
       "    </tr>\n",
       "    <tr>\n",
       "      <th>3</th>\n",
       "      <td>4238589</td>\n",
       "    </tr>\n",
       "    <tr>\n",
       "      <th>4</th>\n",
       "      <td>4475369</td>\n",
       "    </tr>\n",
       "  </tbody>\n",
       "</table>\n",
       "</div>"
      ],
      "text/plain": [
       "   student_id\n",
       "0      581585\n",
       "1     5723133\n",
       "2     3276743\n",
       "3     4238589\n",
       "4     4475369"
      ]
     },
     "execution_count": 6,
     "metadata": {},
     "output_type": "execute_result"
    }
   ],
   "source": [
    "print(active_studs.shape)\n",
    "print(active_studs.isnull().sum())\n",
    "active_studs.head()"
   ]
  },
  {
   "cell_type": "code",
   "execution_count": 7,
   "metadata": {},
   "outputs": [
    {
     "name": "stdout",
     "output_type": "stream",
     "text": [
      "(541, 2)\n",
      "student_id    0\n",
      "rev           0\n",
      "dtype: int64\n"
     ]
    },
    {
     "data": {
      "text/html": [
       "<div>\n",
       "<style scoped>\n",
       "    .dataframe tbody tr th:only-of-type {\n",
       "        vertical-align: middle;\n",
       "    }\n",
       "\n",
       "    .dataframe tbody tr th {\n",
       "        vertical-align: top;\n",
       "    }\n",
       "\n",
       "    .dataframe thead th {\n",
       "        text-align: right;\n",
       "    }\n",
       "</style>\n",
       "<table border=\"1\" class=\"dataframe\">\n",
       "  <thead>\n",
       "    <tr style=\"text-align: right;\">\n",
       "      <th></th>\n",
       "      <th>student_id</th>\n",
       "      <th>rev</th>\n",
       "    </tr>\n",
       "  </thead>\n",
       "  <tbody>\n",
       "    <tr>\n",
       "      <th>0</th>\n",
       "      <td>1627</td>\n",
       "      <td>990.0</td>\n",
       "    </tr>\n",
       "    <tr>\n",
       "      <th>1</th>\n",
       "      <td>3185</td>\n",
       "      <td>690.0</td>\n",
       "    </tr>\n",
       "    <tr>\n",
       "      <th>2</th>\n",
       "      <td>25973</td>\n",
       "      <td>690.0</td>\n",
       "    </tr>\n",
       "    <tr>\n",
       "      <th>3</th>\n",
       "      <td>26280</td>\n",
       "      <td>690.0</td>\n",
       "    </tr>\n",
       "    <tr>\n",
       "      <th>4</th>\n",
       "      <td>100300</td>\n",
       "      <td>990.0</td>\n",
       "    </tr>\n",
       "  </tbody>\n",
       "</table>\n",
       "</div>"
      ],
      "text/plain": [
       "   student_id    rev\n",
       "0        1627  990.0\n",
       "1        3185  690.0\n",
       "2       25973  690.0\n",
       "3       26280  690.0\n",
       "4      100300  990.0"
      ]
     },
     "execution_count": 7,
     "metadata": {},
     "output_type": "execute_result"
    }
   ],
   "source": [
    "print(checks.shape)\n",
    "print(checks.isnull().sum())\n",
    "checks.head()"
   ]
  },
  {
   "cell_type": "markdown",
   "metadata": {},
   "source": [
    "Гипотеза:\n",
    "Изменение механики оплаты - увеличит конверсию покупок и/или средний чек покупателей.\n",
    "\n",
    "Будем рассматривать качественную метрику - конверсию (количество оплативших на общее количество активных) - СR,\n",
    "а также количественную метрику - средний чек купивших пользователей.\n",
    "\n",
    "Активные - все, кто заходил в дни проведения теста.\n",
    "\n",
    "Нулевая гипотеза - Н0 - Изменение механики оплаты не изменит конверсию и средний чек. Наблюдаемые различия - случайны\n",
    "Альтернативная гипотеза - Н1 - Изменение механики оплаты изменит конверсию и средний чек. Выявленные различия - результат изменений механики оплаты\n"
   ]
  },
  {
   "cell_type": "code",
   "execution_count": 8,
   "metadata": {},
   "outputs": [
    {
     "name": "stdout",
     "output_type": "stream",
     "text": [
      "В данных groups в колонке id дупликатов: 0\n",
      "В данных active_studs в колонке student_id дупликатов: 0\n",
      "В данных checks в колонке student_id дупликатов: 0\n"
     ]
    }
   ],
   "source": [
    "# проверим данные на наличие дупликатов\n",
    "def duplic(data,column):\n",
    "    d = data.shape[0]-data[column].nunique()\n",
    "    return d\n",
    "\n",
    "print(f'В данных groups в колонке id дупликатов: {duplic(groups,\"id\")}')\n",
    "print(f'В данных active_studs в колонке student_id дупликатов: {duplic(active_studs,\"student_id\")}')\n",
    "print(f'В данных checks в колонке student_id дупликатов: {duplic(checks,\"student_id\")}')"
   ]
  },
  {
   "cell_type": "code",
   "execution_count": 9,
   "metadata": {},
   "outputs": [
    {
     "name": "stdout",
     "output_type": "stream",
     "text": [
      "<class 'pandas.core.frame.DataFrame'>\n",
      "Int64Index: 8328 entries, 0 to 8327\n",
      "Data columns (total 3 columns):\n",
      " #   Column      Non-Null Count  Dtype  \n",
      "---  ------      --------------  -----  \n",
      " 0   student_id  8328 non-null   int64  \n",
      " 1   grp         8328 non-null   object \n",
      " 2   rev         391 non-null    float64\n",
      "dtypes: float64(1), int64(1), object(1)\n",
      "memory usage: 260.2+ KB\n"
     ]
    }
   ],
   "source": [
    "# соберем в единый датасет активные пользователи, их группы, и сумму оплаты\n",
    "active_studs_groups = active_studs.merge(groups,left_on='student_id',right_on='id')\n",
    "del active_studs_groups['id'] # удалим дублирующую колонку\n",
    "\n",
    "active_studs_groups_checks = active_studs_groups.merge(checks,how='left',on='student_id')\n",
    "active_studs_groups_checks.info()"
   ]
  },
  {
   "cell_type": "code",
   "execution_count": 10,
   "metadata": {},
   "outputs": [],
   "source": [
    "# заполним пропуски в rev нулями и добавим колонку CR\n",
    "active_studs_groups_checks.fillna(0,inplace=True)\n",
    "active_studs_groups_checks['cr'] = np.where(active_studs_groups_checks['rev']>0, 1, 0)"
   ]
  },
  {
   "cell_type": "code",
   "execution_count": 11,
   "metadata": {},
   "outputs": [
    {
     "data": {
      "text/html": [
       "<div>\n",
       "<style scoped>\n",
       "    .dataframe tbody tr th:only-of-type {\n",
       "        vertical-align: middle;\n",
       "    }\n",
       "\n",
       "    .dataframe tbody tr th {\n",
       "        vertical-align: top;\n",
       "    }\n",
       "\n",
       "    .dataframe thead th {\n",
       "        text-align: right;\n",
       "    }\n",
       "</style>\n",
       "<table border=\"1\" class=\"dataframe\">\n",
       "  <thead>\n",
       "    <tr style=\"text-align: right;\">\n",
       "      <th></th>\n",
       "      <th>student_id</th>\n",
       "      <th>grp</th>\n",
       "      <th>rev</th>\n",
       "      <th>cr</th>\n",
       "    </tr>\n",
       "  </thead>\n",
       "  <tbody>\n",
       "    <tr>\n",
       "      <th>0</th>\n",
       "      <td>581585</td>\n",
       "      <td>A</td>\n",
       "      <td>0.0</td>\n",
       "      <td>0</td>\n",
       "    </tr>\n",
       "    <tr>\n",
       "      <th>1</th>\n",
       "      <td>3276743</td>\n",
       "      <td>B</td>\n",
       "      <td>0.0</td>\n",
       "      <td>0</td>\n",
       "    </tr>\n",
       "    <tr>\n",
       "      <th>2</th>\n",
       "      <td>4238589</td>\n",
       "      <td>A</td>\n",
       "      <td>0.0</td>\n",
       "      <td>0</td>\n",
       "    </tr>\n",
       "    <tr>\n",
       "      <th>3</th>\n",
       "      <td>4475369</td>\n",
       "      <td>B</td>\n",
       "      <td>0.0</td>\n",
       "      <td>0</td>\n",
       "    </tr>\n",
       "    <tr>\n",
       "      <th>4</th>\n",
       "      <td>5481015</td>\n",
       "      <td>B</td>\n",
       "      <td>0.0</td>\n",
       "      <td>0</td>\n",
       "    </tr>\n",
       "  </tbody>\n",
       "</table>\n",
       "</div>"
      ],
      "text/plain": [
       "   student_id grp  rev  cr\n",
       "0      581585   A  0.0   0\n",
       "1     3276743   B  0.0   0\n",
       "2     4238589   A  0.0   0\n",
       "3     4475369   B  0.0   0\n",
       "4     5481015   B  0.0   0"
      ]
     },
     "execution_count": 11,
     "metadata": {},
     "output_type": "execute_result"
    }
   ],
   "source": [
    "active_studs_groups_checks.head()"
   ]
  },
  {
   "cell_type": "code",
   "execution_count": 12,
   "metadata": {},
   "outputs": [
    {
     "data": {
      "text/plain": [
       "<matplotlib.axes._subplots.AxesSubplot at 0x7f5777d698d0>"
      ]
     },
     "execution_count": 12,
     "metadata": {},
     "output_type": "execute_result"
    },
    {
     "data": {
      "image/png": "[encoded data removed]",
      "text/plain": [
       "<Figure size 1152x432 with 1 Axes>"
      ]
     },
     "metadata": {},
     "output_type": "display_data"
    }
   ],
   "source": [
    "# посмотрим как распределены группы\n",
    "\n",
    "active_studs_groups_checks.grp.hist()\n",
    "\n",
    "# целевой(тестовой) группы намного больше контрольной"
   ]
  },
  {
   "cell_type": "code",
   "execution_count": 13,
   "metadata": {},
   "outputs": [
    {
     "data": {
      "text/plain": [
       "B    6793\n",
       "A    1535\n",
       "Name: grp, dtype: int64"
      ]
     },
     "execution_count": 13,
     "metadata": {},
     "output_type": "execute_result"
    }
   ],
   "source": [
    "# посмотрим количество студентов в группах\n",
    "active_studs_groups_checks.grp.value_counts()"
   ]
  },
  {
   "cell_type": "code",
   "execution_count": 14,
   "metadata": {},
   "outputs": [
    {
     "data": {
      "text/html": [
       "<div>\n",
       "<style scoped>\n",
       "    .dataframe tbody tr th:only-of-type {\n",
       "        vertical-align: middle;\n",
       "    }\n",
       "\n",
       "    .dataframe tbody tr th {\n",
       "        vertical-align: top;\n",
       "    }\n",
       "\n",
       "    .dataframe thead th {\n",
       "        text-align: right;\n",
       "    }\n",
       "</style>\n",
       "<table border=\"1\" class=\"dataframe\">\n",
       "  <thead>\n",
       "    <tr style=\"text-align: right;\">\n",
       "      <th></th>\n",
       "      <th>grp</th>\n",
       "      <th>cr</th>\n",
       "    </tr>\n",
       "  </thead>\n",
       "  <tbody>\n",
       "    <tr>\n",
       "      <th>0</th>\n",
       "      <td>A</td>\n",
       "      <td>0.050814</td>\n",
       "    </tr>\n",
       "    <tr>\n",
       "      <th>1</th>\n",
       "      <td>B</td>\n",
       "      <td>0.046077</td>\n",
       "    </tr>\n",
       "  </tbody>\n",
       "</table>\n",
       "</div>"
      ],
      "text/plain": [
       "  grp        cr\n",
       "0   A  0.050814\n",
       "1   B  0.046077"
      ]
     },
     "execution_count": 14,
     "metadata": {},
     "output_type": "execute_result"
    }
   ],
   "source": [
    "# считаем CR для групп\n",
    "active_studs_groups_checks.groupby('grp').cr.mean().reset_index()"
   ]
  },
  {
   "cell_type": "code",
   "execution_count": 15,
   "metadata": {},
   "outputs": [
    {
     "data": {
      "text/html": [
       "<div>\n",
       "<style scoped>\n",
       "    .dataframe tbody tr th:only-of-type {\n",
       "        vertical-align: middle;\n",
       "    }\n",
       "\n",
       "    .dataframe tbody tr th {\n",
       "        vertical-align: top;\n",
       "    }\n",
       "\n",
       "    .dataframe thead th {\n",
       "        text-align: right;\n",
       "    }\n",
       "</style>\n",
       "<table border=\"1\" class=\"dataframe\">\n",
       "  <thead>\n",
       "    <tr style=\"text-align: right;\">\n",
       "      <th></th>\n",
       "      <th>date_of_analyse</th>\n",
       "      <th>grp</th>\n",
       "      <th>cr</th>\n",
       "    </tr>\n",
       "  </thead>\n",
       "  <tbody>\n",
       "    <tr>\n",
       "      <th>0</th>\n",
       "      <td>2023-04-01</td>\n",
       "      <td>A</td>\n",
       "      <td>0.050814</td>\n",
       "    </tr>\n",
       "    <tr>\n",
       "      <th>1</th>\n",
       "      <td>2023-04-01</td>\n",
       "      <td>B</td>\n",
       "      <td>0.046077</td>\n",
       "    </tr>\n",
       "  </tbody>\n",
       "</table>\n",
       "</div>"
      ],
      "text/plain": [
       "  date_of_analyse grp        cr\n",
       "0      2023-04-01   A  0.050814\n",
       "1      2023-04-01   B  0.046077"
      ]
     },
     "execution_count": 15,
     "metadata": {},
     "output_type": "execute_result"
    }
   ],
   "source": [
    "# создаем таблицу с вычисленными метриками\n",
    "\n",
    "metrics_table = active_studs_groups_checks.groupby('grp').cr.mean().reset_index()\n",
    "metrics_table.insert(0, \"date_of_analyse\", '2023-04-01')\n",
    "\n",
    "metrics_table"
   ]
  },
  {
   "cell_type": "markdown",
   "metadata": {},
   "source": [
    "Видим, что конверсия на покупку в тестовой группе уменьшилась. \n",
    "Так как СR - параметрический признак, статистическая ли разница проверим с помощью хи-квадрат."
   ]
  },
  {
   "cell_type": "code",
   "execution_count": 16,
   "metadata": {},
   "outputs": [],
   "source": [
    "# построим таблицу сопряженности\n",
    "cross_tab_cr = pd.crosstab(active_studs_groups_checks.grp,active_studs_groups_checks.cr)"
   ]
  },
  {
   "cell_type": "code",
   "execution_count": 17,
   "metadata": {},
   "outputs": [
    {
     "data": {
      "text/html": [
       "<div>\n",
       "<style scoped>\n",
       "    .dataframe tbody tr th:only-of-type {\n",
       "        vertical-align: middle;\n",
       "    }\n",
       "\n",
       "    .dataframe tbody tr th {\n",
       "        vertical-align: top;\n",
       "    }\n",
       "\n",
       "    .dataframe thead th {\n",
       "        text-align: right;\n",
       "    }\n",
       "</style>\n",
       "<table border=\"1\" class=\"dataframe\">\n",
       "  <thead>\n",
       "    <tr style=\"text-align: right;\">\n",
       "      <th>cr</th>\n",
       "      <th>0</th>\n",
       "      <th>1</th>\n",
       "    </tr>\n",
       "    <tr>\n",
       "      <th>grp</th>\n",
       "      <th></th>\n",
       "      <th></th>\n",
       "    </tr>\n",
       "  </thead>\n",
       "  <tbody>\n",
       "    <tr>\n",
       "      <th>A</th>\n",
       "      <td>1457</td>\n",
       "      <td>78</td>\n",
       "    </tr>\n",
       "    <tr>\n",
       "      <th>B</th>\n",
       "      <td>6480</td>\n",
       "      <td>313</td>\n",
       "    </tr>\n",
       "  </tbody>\n",
       "</table>\n",
       "</div>"
      ],
      "text/plain": [
       "cr      0    1\n",
       "grp           \n",
       "A    1457   78\n",
       "B    6480  313"
      ]
     },
     "execution_count": 17,
     "metadata": {},
     "output_type": "execute_result"
    }
   ],
   "source": [
    "cross_tab_cr\n"
   ]
  },
  {
   "cell_type": "code",
   "execution_count": 18,
   "metadata": {},
   "outputs": [
    {
     "data": {
      "text/plain": [
       "0.46803677583199144"
      ]
     },
     "execution_count": 18,
     "metadata": {},
     "output_type": "execute_result"
    }
   ],
   "source": [
    "\n",
    "res = chi2_contingency(cross_tab_cr)\n",
    "res[1]"
   ]
  },
  {
   "cell_type": "markdown",
   "metadata": {},
   "source": [
    "Вывод: Полученные различия в CR случайны. Изменение в механике оплаты не влияет на конверсию в покупку."
   ]
  },
  {
   "cell_type": "markdown",
   "metadata": {},
   "source": [
    "Для проверки количественного параметра ARPAU - проверим на нормальность распределения.  \n",
    "Если нормально, то воспользуемся t-критерием Стьюдента  \n",
    "Если ненормально, то u-критерием Манна_Уитни"
   ]
  },
  {
   "cell_type": "code",
   "execution_count": 19,
   "metadata": {},
   "outputs": [
    {
     "data": {
      "text/plain": [
       "ShapiroResult(statistic=0.8551987409591675, pvalue=1.756778758085431e-16)"
      ]
     },
     "execution_count": 19,
     "metadata": {},
     "output_type": "execute_result"
    }
   ],
   "source": [
    "from scipy import stats\n",
    "stats.shapiro(active_studs_groups_checks[active_studs_groups_checks.grp == 'B'].query('rev>0').rev)"
   ]
  },
  {
   "cell_type": "code",
   "execution_count": 20,
   "metadata": {},
   "outputs": [
    {
     "data": {
      "text/plain": [
       "ShapiroResult(statistic=0.7353236079216003, pvalue=1.4986822893803264e-10)"
      ]
     },
     "execution_count": 20,
     "metadata": {},
     "output_type": "execute_result"
    }
   ],
   "source": [
    "stats.shapiro(active_studs_groups_checks[active_studs_groups_checks.grp == 'A'].query('rev>0').rev)"
   ]
  },
  {
   "cell_type": "markdown",
   "metadata": {},
   "source": [
    "Как видно тест Шапиро-Уилка на нормальность, показал, что распределения ненормально.\n",
    "Трансформируем данные логарифмированием."
   ]
  },
  {
   "cell_type": "code",
   "execution_count": 21,
   "metadata": {},
   "outputs": [
    {
     "data": {
      "text/plain": [
       "<matplotlib.axes._subplots.AxesSubplot at 0x7f577569f940>"
      ]
     },
     "execution_count": 21,
     "metadata": {},
     "output_type": "execute_result"
    },
    {
     "data": {
      "image/png": "[encoded data removed]",
      "text/plain": [
       "<Figure size 1152x432 with 1 Axes>"
      ]
     },
     "metadata": {},
     "output_type": "display_data"
    }
   ],
   "source": [
    "np.log(active_studs_groups_checks[active_studs_groups_checks.grp == 'B'].query('rev>0').rev).hist()"
   ]
  },
  {
   "cell_type": "code",
   "execution_count": 22,
   "metadata": {},
   "outputs": [
    {
     "data": {
      "text/plain": [
       "<matplotlib.axes._subplots.AxesSubplot at 0x7f57757e6d68>"
      ]
     },
     "execution_count": 22,
     "metadata": {},
     "output_type": "execute_result"
    },
    {
     "data": {
      "image/png": "[encoded data removed]",
      "text/plain": [
       "<Figure size 1152x432 with 1 Axes>"
      ]
     },
     "metadata": {},
     "output_type": "display_data"
    }
   ],
   "source": [
    "np.log(active_studs_groups_checks[active_studs_groups_checks.grp == 'A'].query('rev>0').rev).hist()"
   ]
  },
  {
   "cell_type": "markdown",
   "metadata": {},
   "source": [
    "Полученное преобразование не привело к нормальному распределению."
   ]
  },
  {
   "cell_type": "code",
   "execution_count": 23,
   "metadata": {},
   "outputs": [
    {
     "data": {
      "text/html": [
       "<div>\n",
       "<style scoped>\n",
       "    .dataframe tbody tr th:only-of-type {\n",
       "        vertical-align: middle;\n",
       "    }\n",
       "\n",
       "    .dataframe tbody tr th {\n",
       "        vertical-align: top;\n",
       "    }\n",
       "\n",
       "    .dataframe thead th {\n",
       "        text-align: right;\n",
       "    }\n",
       "</style>\n",
       "<table border=\"1\" class=\"dataframe\">\n",
       "  <thead>\n",
       "    <tr style=\"text-align: right;\">\n",
       "      <th></th>\n",
       "      <th>grp</th>\n",
       "      <th>rev</th>\n",
       "    </tr>\n",
       "  </thead>\n",
       "  <tbody>\n",
       "    <tr>\n",
       "      <th>0</th>\n",
       "      <td>A</td>\n",
       "      <td>933.59</td>\n",
       "    </tr>\n",
       "    <tr>\n",
       "      <th>1</th>\n",
       "      <td>B</td>\n",
       "      <td>1255.83</td>\n",
       "    </tr>\n",
       "  </tbody>\n",
       "</table>\n",
       "</div>"
      ],
      "text/plain": [
       "  grp      rev\n",
       "0   A   933.59\n",
       "1   B  1255.83"
      ]
     },
     "execution_count": 23,
     "metadata": {},
     "output_type": "execute_result"
    }
   ],
   "source": [
    "# посчитаем ARPAU для контрольной и тестовой групп\n",
    "active_studs_groups_checks.query('rev>0').groupby('grp').agg({'rev': 'mean'}).reset_index().round({'rev':2})"
   ]
  },
  {
   "cell_type": "code",
   "execution_count": 24,
   "metadata": {},
   "outputs": [
    {
     "data": {
      "text/html": [
       "<div>\n",
       "<style scoped>\n",
       "    .dataframe tbody tr th:only-of-type {\n",
       "        vertical-align: middle;\n",
       "    }\n",
       "\n",
       "    .dataframe tbody tr th {\n",
       "        vertical-align: top;\n",
       "    }\n",
       "\n",
       "    .dataframe thead th {\n",
       "        text-align: right;\n",
       "    }\n",
       "</style>\n",
       "<table border=\"1\" class=\"dataframe\">\n",
       "  <thead>\n",
       "    <tr style=\"text-align: right;\">\n",
       "      <th></th>\n",
       "      <th>date_of_analyse</th>\n",
       "      <th>grp</th>\n",
       "      <th>cr</th>\n",
       "      <th>mean_check</th>\n",
       "    </tr>\n",
       "  </thead>\n",
       "  <tbody>\n",
       "    <tr>\n",
       "      <th>0</th>\n",
       "      <td>2023-04-01</td>\n",
       "      <td>A</td>\n",
       "      <td>0.050814</td>\n",
       "      <td>933.59</td>\n",
       "    </tr>\n",
       "    <tr>\n",
       "      <th>1</th>\n",
       "      <td>2023-04-01</td>\n",
       "      <td>B</td>\n",
       "      <td>0.046077</td>\n",
       "      <td>1255.83</td>\n",
       "    </tr>\n",
       "  </tbody>\n",
       "</table>\n",
       "</div>"
      ],
      "text/plain": [
       "  date_of_analyse grp        cr  mean_check\n",
       "0      2023-04-01   A  0.050814      933.59\n",
       "1      2023-04-01   B  0.046077     1255.83"
      ]
     },
     "execution_count": 24,
     "metadata": {},
     "output_type": "execute_result"
    }
   ],
   "source": [
    "# добавим данные в таблицу метрик\n",
    "metrics_table ['mean_check'] = active_studs_groups_checks.query('rev>0').groupby('grp').agg({'rev': 'mean'}).reset_index().round({'rev':2}).rev\n",
    "metrics_table"
   ]
  },
  {
   "cell_type": "code",
   "execution_count": 25,
   "metadata": {},
   "outputs": [
    {
     "data": {
      "text/plain": [
       "<matplotlib.axes._subplots.AxesSubplot at 0x7f577576d160>"
      ]
     },
     "execution_count": 25,
     "metadata": {},
     "output_type": "execute_result"
    },
    {
     "data": {
      "image/png": "[encoded data removed]",
      "text/plain": [
       "<Figure size 1152x432 with 1 Axes>"
      ]
     },
     "metadata": {},
     "output_type": "display_data"
    }
   ],
   "source": [
    "# построим boxplot\n",
    "sns.boxplot(x=\"grp\", y=\"rev\", data=active_studs_groups_checks.query('rev>0'))"
   ]
  },
  {
   "cell_type": "code",
   "execution_count": 26,
   "metadata": {},
   "outputs": [],
   "source": [
    "group1 = (active_studs_groups_checks[active_studs_groups_checks.grp == 'A'].query('rev>0').rev)\n",
    "group2 = (active_studs_groups_checks[active_studs_groups_checks.grp == 'B'].query('rev>0').rev)"
   ]
  },
  {
   "cell_type": "code",
   "execution_count": 27,
   "metadata": {},
   "outputs": [
    {
     "data": {
      "text/plain": [
       "MannwhitneyuResult(statistic=8990.0, pvalue=0.000273244700505943)"
      ]
     },
     "execution_count": 27,
     "metadata": {},
     "output_type": "execute_result"
    }
   ],
   "source": [
    "stats. mannwhitneyu (group1, group2)"
   ]
  },
  {
   "cell_type": "markdown",
   "metadata": {},
   "source": [
    "## Вывод:\n",
    "\n",
    "После изучения полученных данных выдвигаем гипотезу.\n",
    "\n",
    "    Гипотеза:\n",
    "    Изменение механики оплаты - увеличит конверсию покупок и/или средний чек покупателей.\n",
    "\n",
    "Будем рассматривать качественную метрику - конверсию (количество оплативших на общее количество активных) - СR,\n",
    "а также количественную метрику - средний чек купивших пользователей.\n",
    "\n",
    "Активные - все, кто заходил в дни проведения теста.\n",
    "\n",
    "Нулевая гипотеза - Н0 - Изменение механики оплаты не изменит конверсию и средний чек. Наблюдаемые различия - случайны\n",
    "Альтернативная гипотеза - Н1 - Изменение механики оплаты изменит конверсию и средний чек. Выявленные различия - результат изменений механики оплаты\n",
    "\n",
    "Для обоих групп(контрольной \"А\" и тестовой \"В\") получены следующие метрики \n",
    "        CR          mean_check\n",
    "A    0.050814        933.59\n",
    "B    0.046077        1255.83\n",
    "\n",
    "Видим, что конверсия на покупку в тестовой группе уменьшилась, а средний чек увеличился.\n",
    "\n",
    "Так как в нашем случае СR категоримальный признак, статистический анализ проводим с помощью хи-квадрат. Полученный результат p_value = 0.46803677583199144, говорит, что наблюдаемые значения в CR случайны\n",
    "\n",
    "Для количественного параметра mean_check была проведена проверка на нормальность распределения значений с помощью теста Шапиро-Уилка, где было выявлено, что распределение ненормальное. А также проведено преобразование данных логарифмирование, что тоже не привело к нормальному распределению данных. Было принято решение воспользоваться  u-критерием Манна_Уитни, которое показало статистическую значимость различия данных с pvalue=0.000273244700505943\n",
    "\n",
    "С настоящими данными приходим к выводу, что данную механику оплаты запустить на всех пользователей.\n"
   ]
  },
  {
   "cell_type": "markdown",
   "metadata": {},
   "source": [
    "# Задание 2. SQL\n",
    "\n",
    "2.1 Очень усердные ученики.\n",
    "\n",
    "2.1.1 Условие\n",
    "\n",
    "Образовательные курсы состоят из различных уроков, каждый из которых состоит из нескольких маленьких заданий. Каждое такое маленькое задание называется \"горошиной\".\n",
    "\n",
    "Назовём очень усердным учеником того пользователя, который хотя бы раз за текущий месяц правильно решил 20 горошин.\n",
    "\n",
    "2.1.2 Задача\n",
    "\n",
    "Дана таблица default.peas:\n",
    "\n",
    "        Название атрибута\tТип атрибута\tСмысловое значение\n",
    "        st_id\t                     int\tID ученика\n",
    "        timest\t               timestamp\tВремя решения карточки\n",
    "        correct\t                    bool\tПравильно ли решена горошина?\n",
    "        subject\t                    text\tДисциплина, в которой находится горошина\n",
    "\n",
    "\n",
    "Необходимо написать оптимальный запрос, который даст информацию о количестве очень усердных студентов.NB! Под усердным студентом мы понимаем студента, который правильно решил 20 задач за текущий месяц."
   ]
  },
  {
   "cell_type": "code",
   "execution_count": 28,
   "metadata": {},
   "outputs": [],
   "source": [
    "import pandahouse as ph"
   ]
  },
  {
   "cell_type": "code",
   "execution_count": 29,
   "metadata": {},
   "outputs": [],
   "source": [
    "connection_default = {'host': 'http://clickhouse.beslan.pro:8080',\n",
    "                      'database':'default',\n",
    "                      'user':'student', \n",
    "                      'password':'dpo_python_2020'\n",
    "                     }"
   ]
  },
  {
   "cell_type": "code",
   "execution_count": 30,
   "metadata": {},
   "outputs": [
    {
     "data": {
      "text/html": [
       "<div>\n",
       "<style scoped>\n",
       "    .dataframe tbody tr th:only-of-type {\n",
       "        vertical-align: middle;\n",
       "    }\n",
       "\n",
       "    .dataframe tbody tr th {\n",
       "        vertical-align: top;\n",
       "    }\n",
       "\n",
       "    .dataframe thead th {\n",
       "        text-align: right;\n",
       "    }\n",
       "</style>\n",
       "<table border=\"1\" class=\"dataframe\">\n",
       "  <thead>\n",
       "    <tr style=\"text-align: right;\">\n",
       "      <th></th>\n",
       "      <th>count_active_student</th>\n",
       "    </tr>\n",
       "  </thead>\n",
       "  <tbody>\n",
       "    <tr>\n",
       "      <th>0</th>\n",
       "      <td>233</td>\n",
       "    </tr>\n",
       "  </tbody>\n",
       "</table>\n",
       "</div>"
      ],
      "text/plain": [
       "   count_active_student\n",
       "0                   233"
      ]
     },
     "execution_count": 30,
     "metadata": {},
     "output_type": "execute_result"
    }
   ],
   "source": [
    "# создаем запрос, db автоматически заменится на значение из database\n",
    "q = '''\n",
    "    SELECT COUNT(st_id) AS count_active_student\n",
    "    FROM (\n",
    "        SELECT st_id, SUM(correct)\n",
    "        FROM peas \n",
    "        GROUP BY st_id\n",
    "        HAVING SUM(correct)>=10\n",
    "        )\n",
    "    '''\n",
    "\n",
    "# отправляем запрос и записываем результат в пандасовский датафрейм\n",
    "q_test = ph.read_clickhouse(query=q, connection=connection_default)\n",
    "q_test"
   ]
  },
  {
   "cell_type": "markdown",
   "metadata": {},
   "source": [
    "2.2 Оптимизация воронки\n",
    "\n",
    "2.2.1 Условие\n",
    "\n",
    "Образовательная платформа предлагает пройти студентам курсы по модели trial: студент может решить бесплатно лишь 30 горошин в день. Для неограниченного количества заданий в определенной дисциплине студенту необходимо приобрести полный доступ. Команда провела эксперимент, где был протестирован новый экран оплаты.\n",
    "\n",
    "2.2.2 Задача\n",
    "\n",
    "Дана таблицы: default.peas (см. выше), default.studs:\n",
    "\n",
    "    Название атрибута\tТип атрибута\tСмысловое значение\n",
    "    st_id\t                     int\t ID ученика\n",
    "    test_grp\t                 text\t Метка ученика в данном эксперименте\n",
    "\n",
    "и default.final_project_check:\n",
    "\n",
    "    Название атрибута\tТип атрибута\tСмысловое значение\n",
    "    st_id\t                     int \tID ученика\n",
    "    sale_time\t           timestamp\tВремя покупки\n",
    "    money\t                     int\tЦена, по которой приобрели данный курс\n",
    "    subject                      text \t\n",
    "\n",
    "Необходимо в одном запросе выгрузить следующую информацию о группах пользователей:\n",
    "\n",
    "    ARPU \n",
    "    ARPAU \n",
    "    CR в покупку \n",
    "    СR активного пользователя в покупку \n",
    "    CR пользователя из активности по математике (subject = ’math’) в покупку курса по математике\n",
    "\n",
    "ARPU считается относительно всех пользователей, попавших в группы.\n",
    "\n",
    "Активным считается пользователь, за все время решивший больше 10 задач правильно в любых дисциплинах.\n",
    "\n",
    "Активным по математике считается пользователь, за все время решивший 2 или больше задач правильно по математике.\n"
   ]
  },
  {
   "cell_type": "code",
   "execution_count": 31,
   "metadata": {},
   "outputs": [
    {
     "data": {
      "text/html": [
       "<div>\n",
       "<style scoped>\n",
       "    .dataframe tbody tr th:only-of-type {\n",
       "        vertical-align: middle;\n",
       "    }\n",
       "\n",
       "    .dataframe tbody tr th {\n",
       "        vertical-align: top;\n",
       "    }\n",
       "\n",
       "    .dataframe thead th {\n",
       "        text-align: right;\n",
       "    }\n",
       "</style>\n",
       "<table border=\"1\" class=\"dataframe\">\n",
       "  <thead>\n",
       "    <tr style=\"text-align: right;\">\n",
       "      <th></th>\n",
       "      <th>test_grp</th>\n",
       "      <th>ARPU</th>\n",
       "      <th>ARPAU</th>\n",
       "      <th>CR</th>\n",
       "      <th>CR_active</th>\n",
       "      <th>CR_math</th>\n",
       "    </tr>\n",
       "  </thead>\n",
       "  <tbody>\n",
       "    <tr>\n",
       "      <th>0</th>\n",
       "      <td>control</td>\n",
       "      <td>4540.98</td>\n",
       "      <td>10000.00</td>\n",
       "      <td>0.05</td>\n",
       "      <td>0.11</td>\n",
       "      <td>0.06</td>\n",
       "    </tr>\n",
       "    <tr>\n",
       "      <th>1</th>\n",
       "      <td>pilot</td>\n",
       "      <td>11508.47</td>\n",
       "      <td>28267.33</td>\n",
       "      <td>0.11</td>\n",
       "      <td>0.25</td>\n",
       "      <td>0.10</td>\n",
       "    </tr>\n",
       "  </tbody>\n",
       "</table>\n",
       "</div>"
      ],
      "text/plain": [
       "  test_grp      ARPU     ARPAU    CR  CR_active  CR_math\n",
       "0  control   4540.98  10000.00  0.05       0.11     0.06\n",
       "1    pilot  11508.47  28267.33  0.11       0.25     0.10"
      ]
     },
     "execution_count": 31,
     "metadata": {},
     "output_type": "execute_result"
    }
   ],
   "source": [
    "# создаем запрос, db автоматически заменится на значение из database\n",
    "q = '''\n",
    "    SELECT test_grp, \n",
    "        ROUND(SUM(total_money)/COUNT(DISTINCT s.st_id),2) as ARPU,\n",
    "        ROUND(sumIf(total_money,active_stud=1)/SUM(active_stud),2) as ARPAU,\n",
    "        ROUND(countIf(total_money>0)/COUNT(DISTINCT s.st_id),2) AS CR, \n",
    "        ROUND(countIf(total_money>0 and active_stud=1)/SUM(active_stud),2) as CR_active,\n",
    "        ROUND(countIf(total_money>0 and math_active=1 and bought_math=1)/SUM(math_active),2) as CR_math\n",
    "    FROM studs s\n",
    "    LEFT JOIN \n",
    "    (SELECT st_id, SUM(money) AS total_money,\n",
    "            SUM(CASE \n",
    "            WHEN subject='Math'\n",
    "            THEN 1\n",
    "            ELSE 0\n",
    "            END) AS bought_math\n",
    "    FROM default.final_project_check\n",
    "    GROUP BY st_id) AS fpc\n",
    "    ON s.st_id=fpc.st_id\n",
    "    LEFT JOIN (\n",
    "        SELECT st_id, CASE \n",
    "            WHEN SUM(correct)>=10\n",
    "            THEN 1\n",
    "            ELSE 0\n",
    "            END AS active_stud,\n",
    "            CASE \n",
    "            WHEN countIf(subject='Math' and correct=1)>=2\n",
    "            THEN 1\n",
    "            ELSE 0\n",
    "            END AS math_active\n",
    "        FROM peas \n",
    "        GROUP BY st_id) AS acs\n",
    "    ON s.st_id=acs.st_id\n",
    "    GROUP BY test_grp\n",
    "\n",
    "    '''\n",
    "\n",
    "# отправляем запрос и записываем результат в пандасовский датафрейм\n",
    "q_test = ph.read_clickhouse(query=q, connection=connection_default)\n",
    "q_test"
   ]
  },
  {
   "cell_type": "markdown",
   "metadata": {},
   "source": [
    "# Задание 3. Python\n",
    "3.1 Задача\n",
    "\n",
    "Реализуйте функцию, которая будет автоматически подгружать информацию из дополнительного файла groups_add.csv (заголовки могут отличаться) и на основании дополнительных параметров пересчитывать метрики.  \n",
    "Реализуйте функцию, которая будет строить графики по получаемым метрикам."
   ]
  },
  {
   "cell_type": "code",
   "execution_count": 32,
   "metadata": {},
   "outputs": [],
   "source": [
    "def new_metrics(new_data,groups,active_studs,checks,next_date):\n",
    "    new_data.columns=['id','grp']\n",
    "    if duplic(new_data,'id')>0:\n",
    "        return print('Проверьте данные. Есть дубликаты')\n",
    "    groups = pd.concat([groups,new_data],ignore_index=True)\n",
    "    groups.drop_duplicates('id', keep='last', inplace=True)\n",
    "    \n",
    "    active_studs_groups = active_studs.merge(groups,left_on='student_id',right_on='id')\n",
    "    del active_studs_groups['id'] # удалим дублирующую колонку\n",
    "    active_studs_groups_checks = active_studs_groups.merge(checks,how='left',on='student_id')\n",
    "    \n",
    "    # заполним пропуски в rev нулями и добавим колонку CR\n",
    "    active_studs_groups_checks.fillna(0,inplace=True)\n",
    "    active_studs_groups_checks['cr'] = np.where(active_studs_groups_checks['rev']>0, 1, 0)\n",
    "    \n",
    "    # высчитываем CR для каждой группы\n",
    "    cr_new = active_studs_groups_checks.groupby('grp').cr.mean().reset_index().round({'cr':4})\n",
    "    \n",
    "    arpau = active_studs_groups_checks.query('rev>0').groupby('grp').agg({'rev': 'mean'}).reset_index().round({'rev':2})\n",
    "    \n",
    "    # создаем таблицу c новыми метриками\n",
    "    \n",
    "    new_metrics = cr_new.copy()\n",
    "    new_metrics.insert(0, \"date_of_analyse\", next_date)\n",
    "    new_metrics['mean_check'] = arpau.rev\n",
    "\n",
    "    \n",
    "    \n",
    "    return new_metrics\n",
    "    "
   ]
  },
  {
   "cell_type": "code",
   "execution_count": 33,
   "metadata": {},
   "outputs": [
    {
     "data": {
      "text/html": [
       "<div>\n",
       "<style scoped>\n",
       "    .dataframe tbody tr th:only-of-type {\n",
       "        vertical-align: middle;\n",
       "    }\n",
       "\n",
       "    .dataframe tbody tr th {\n",
       "        vertical-align: top;\n",
       "    }\n",
       "\n",
       "    .dataframe thead th {\n",
       "        text-align: right;\n",
       "    }\n",
       "</style>\n",
       "<table border=\"1\" class=\"dataframe\">\n",
       "  <thead>\n",
       "    <tr style=\"text-align: right;\">\n",
       "      <th></th>\n",
       "      <th>date_of_analyse</th>\n",
       "      <th>grp</th>\n",
       "      <th>cr</th>\n",
       "      <th>mean_check</th>\n",
       "    </tr>\n",
       "  </thead>\n",
       "  <tbody>\n",
       "    <tr>\n",
       "      <th>0</th>\n",
       "      <td>2020-13-04</td>\n",
       "      <td>A</td>\n",
       "      <td>0.0507</td>\n",
       "      <td>933.59</td>\n",
       "    </tr>\n",
       "    <tr>\n",
       "      <th>1</th>\n",
       "      <td>2020-13-04</td>\n",
       "      <td>B</td>\n",
       "      <td>0.0462</td>\n",
       "      <td>1257.88</td>\n",
       "    </tr>\n",
       "  </tbody>\n",
       "</table>\n",
       "</div>"
      ],
      "text/plain": [
       "  date_of_analyse grp      cr  mean_check\n",
       "0      2020-13-04   A  0.0507      933.59\n",
       "1      2020-13-04   B  0.0462     1257.88"
      ]
     },
     "execution_count": 33,
     "metadata": {},
     "output_type": "execute_result"
    }
   ],
   "source": [
    "new_metrics(groups_add,groups,active_studs,checks,'2020-13-04')"
   ]
  },
  {
   "cell_type": "code",
   "execution_count": 44,
   "metadata": {},
   "outputs": [],
   "source": [
    "def metrics_graphics(metrics):\n",
    "    \n",
    "    fig, ax = plt.subplots(\n",
    "    2,               #две строки                                          \n",
    "    1,               #по одному графику                                       \n",
    "    figsize=(20, 20)  #вписать в размер 15х10 дюйма                           \n",
    "    )\n",
    "    \n",
    "    x_labels = metrics['date_of_analyse'].unique() # значения по х\n",
    "    sns.lineplot(data=metrics,x='date_of_analyse',y='cr',hue='grp',ax = ax[0])\n",
    "    ax[0].set_title('CR\\n')\n",
    "    ax[0].set_xticklabels(x_labels,rotation = 30, ha='right')\n",
    "    \n",
    "    sns.lineplot(data=metrics,x='date_of_analyse',y='mean_check',hue='grp',ax = ax[1])\n",
    "    ax[1].set_title('Mean_check\\n')\n",
    "    ax[1].set_xticklabels(x_labels,rotation = 30, ha='right')\n",
    "    "
   ]
  },
  {
   "cell_type": "code",
   "execution_count": 35,
   "metadata": {},
   "outputs": [],
   "source": [
    "# объединям две таблицы с метриками\n",
    "nm = new_metrics(groups_add,groups,active_studs,checks,'2023-04-13')\n",
    "metrics_table = pd.concat([metrics_table,nm])"
   ]
  },
  {
   "cell_type": "code",
   "execution_count": 36,
   "metadata": {},
   "outputs": [
    {
     "data": {
      "text/html": [
       "<div>\n",
       "<style scoped>\n",
       "    .dataframe tbody tr th:only-of-type {\n",
       "        vertical-align: middle;\n",
       "    }\n",
       "\n",
       "    .dataframe tbody tr th {\n",
       "        vertical-align: top;\n",
       "    }\n",
       "\n",
       "    .dataframe thead th {\n",
       "        text-align: right;\n",
       "    }\n",
       "</style>\n",
       "<table border=\"1\" class=\"dataframe\">\n",
       "  <thead>\n",
       "    <tr style=\"text-align: right;\">\n",
       "      <th></th>\n",
       "      <th>date_of_analyse</th>\n",
       "      <th>grp</th>\n",
       "      <th>cr</th>\n",
       "      <th>mean_check</th>\n",
       "    </tr>\n",
       "  </thead>\n",
       "  <tbody>\n",
       "    <tr>\n",
       "      <th>0</th>\n",
       "      <td>2023-04-01</td>\n",
       "      <td>A</td>\n",
       "      <td>0.050814</td>\n",
       "      <td>933.59</td>\n",
       "    </tr>\n",
       "    <tr>\n",
       "      <th>1</th>\n",
       "      <td>2023-04-01</td>\n",
       "      <td>B</td>\n",
       "      <td>0.046077</td>\n",
       "      <td>1255.83</td>\n",
       "    </tr>\n",
       "    <tr>\n",
       "      <th>0</th>\n",
       "      <td>2023-04-13</td>\n",
       "      <td>A</td>\n",
       "      <td>0.050700</td>\n",
       "      <td>933.59</td>\n",
       "    </tr>\n",
       "    <tr>\n",
       "      <th>1</th>\n",
       "      <td>2023-04-13</td>\n",
       "      <td>B</td>\n",
       "      <td>0.046200</td>\n",
       "      <td>1257.88</td>\n",
       "    </tr>\n",
       "  </tbody>\n",
       "</table>\n",
       "</div>"
      ],
      "text/plain": [
       "  date_of_analyse grp        cr  mean_check\n",
       "0      2023-04-01   A  0.050814      933.59\n",
       "1      2023-04-01   B  0.046077     1255.83\n",
       "0      2023-04-13   A  0.050700      933.59\n",
       "1      2023-04-13   B  0.046200     1257.88"
      ]
     },
     "execution_count": 36,
     "metadata": {},
     "output_type": "execute_result"
    }
   ],
   "source": [
    "metrics_table"
   ]
  },
  {
   "cell_type": "code",
   "execution_count": 45,
   "metadata": {},
   "outputs": [
    {
     "data": {
      "image/png": "[encoded data removed]",
      "text/plain": [
       "<Figure size 1440x1440 with 2 Axes>"
      ]
     },
     "metadata": {},
     "output_type": "display_data"
    }
   ],
   "source": [
    "metrics_graphics(metrics_table)"
   ]
  },
  {
   "cell_type": "code",
   "execution_count": null,
   "metadata": {},
   "outputs": [],
   "source": []
  }
 ],
 "metadata": {
  "kernelspec": {
   "display_name": "Python 3",
   "language": "python",
   "name": "python3"
  },
  "language_info": {
   "codemirror_mode": {
    "name": "ipython",
    "version": 3
   },
   "file_extension": ".py",
   "mimetype": "text/x-python",
   "name": "python",
   "nbconvert_exporter": "python",
   "pygments_lexer": "ipython3",
   "version": "3.7.3"
  }
 },
 "nbformat": 4,
 "nbformat_minor": 4
}
